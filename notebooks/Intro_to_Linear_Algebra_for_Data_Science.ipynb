{
  "nbformat": 4,
  "nbformat_minor": 0,
  "metadata": {
    "colab": {
      "provenance": [],
      "collapsed_sections": [
        "pxdZWot7T1E1",
        "D4kHS1OBURrZ",
        "tJfm61NPWjv_",
        "avMpM77koBuM",
        "F09V8u-spsU4",
        "R3g07igFqX25",
        "7PJoYXmOriMV"
      ],
      "include_colab_link": true
    },
    "kernelspec": {
      "name": "python3",
      "display_name": "Python 3"
    },
    "language_info": {
      "name": "python"
    }
  },
  "cells": [
    {
      "cell_type": "markdown",
      "metadata": {
        "id": "view-in-github",
        "colab_type": "text"
      },
      "source": [
        "<a href=\"https://colab.research.google.com/github/ale-camer/Mathematics/blob/Finance/Intro_to_Linear_Algebra_for_Data_Science.ipynb\" target=\"_parent\"><img src=\"https://colab.research.google.com/assets/colab-badge.svg\" alt=\"Open In Colab\"/></a>"
      ]
    },
    {
      "cell_type": "markdown",
      "source": [
        "Algebra is arithmetic, which is the study of the properties of the traditional operations on numbers, that includes non-numerical entities like *x*.\n",
        "\n",
        "Linear Algebra is solving unknowns within systems of linear equations.\n",
        "\n",
        "In this notebook we will have a theoric introduction to linear algebra for data science. This include the following topics:\n",
        "\n",
        "- Dimensions\n",
        "- Types of Matrices\n",
        "- Vector and Matrix Operations\n",
        "- Vector Norms\n",
        "- Matrix Decomposition"
      ],
      "metadata": {
        "id": "FAPLUZD5ZfZc"
      }
    },
    {
      "cell_type": "markdown",
      "source": [
        "# Libraries"
      ],
      "metadata": {
        "id": "pxdZWot7T1E1"
      }
    },
    {
      "cell_type": "code",
      "execution_count": null,
      "metadata": {
        "id": "pAG_rcpPTw-b"
      },
      "outputs": [],
      "source": [
        "import warnings\n",
        "warnings.filterwarnings(\"ignore\")\n",
        "\n",
        "import numpy as np\n",
        "import scipy as sp\n",
        "np.set_printoptions(suppress=True)\n",
        "\n",
        "from PIL import Image\n",
        "from matplotlib import pyplot as plt"
      ]
    },
    {
      "cell_type": "markdown",
      "source": [
        "# Dimensions"
      ],
      "metadata": {
        "id": "D4kHS1OBURrZ"
      }
    },
    {
      "cell_type": "code",
      "source": [
        "url = \"/content/Tensors-as-generalizations-of-scalars-vectors-and-matrices.png\"\n",
        "im = Image.open(url)\n",
        "im.show()"
      ],
      "metadata": {
        "colab": {
          "base_uri": "https://localhost:8080/",
          "height": 313
        },
        "id": "u0GIk-N2UT4g",
        "outputId": "2d97066c-ae9f-4bcd-9be1-bce7f61e7a01"
      },
      "execution_count": null,
      "outputs": [
        {
          "output_type": "display_data",
          "data": {
            "text/plain": [
              "<PIL.PngImagePlugin.PngImageFile image mode=P size=850x296 at 0x7FB3060E7730>"
            ],
            "image/png": "[encoded data removed]"
          },
          "metadata": {}
        }
      ]
    },
    {
      "cell_type": "markdown",
      "source": [
        "Definitions:\n",
        "- Scalar ($x$): single number\n",
        "- Vector ($\\vec{v}$): collection of scalar numbers\n",
        "- Matrix ($A_{n,m}$): collection of vectors\n",
        "- 3D Tensor ($T_{n,m,p}$): collection of matrices\n",
        "\n",
        "By understanding how vector and matrices works we can extrapolate their operations to higher dimensions. Therefore, it's important to introduce the concept of linear combination which is an expression constructed from a set of terms by multiplying each term by a constant and adding the results. It's just a weighted sum.\n",
        "\n",
        "For example, let's say we have the following vectors:\n",
        "\n",
        "$\\vec{v}_1 = \\begin{bmatrix} 1 \\\\ 2 \\\\ 3 \\end{bmatrix},  \n",
        "\\vec{v}_2 = \\begin{bmatrix} 3 \\\\ 5 \\\\ 1 \\end{bmatrix}\n",
        "\\vec{v}_3 = \\begin{bmatrix} 0 \\\\ 0 \\\\ 8 \\end{bmatrix}$\n",
        "\n",
        "and that the linear combination of $\\vec{v}_1,\\vec{v}_2,\\vec{v}_3$ is the vector $\\vec{b} = \\begin{bmatrix} 3 \\\\ 6 \\\\ 9 \\end{bmatrix}$\n",
        "\n",
        "This would be written the following way:\n",
        "\n",
        "$\\begin{bmatrix} 3 \\\\ 6 \\\\ 9 \\end{bmatrix} =\n",
        "\\alpha_1 \\begin{bmatrix} 1 \\\\ 2 \\\\ 3 \\end{bmatrix} +\n",
        "\\alpha_2 \\begin{bmatrix} 3 \\\\ 5 \\\\ 1 \\end{bmatrix} +\n",
        "\\alpha_3 \\begin{bmatrix} 0 \\\\ 0 \\\\ 8 \\end{bmatrix}$\n",
        "\n",
        "or:\n",
        "\n",
        "$\\vec{b} = \\alpha_1 \\vec{v}_1 + \\alpha_2 \\vec{v}_2 + \\alpha_3 \\vec{v}_3$\n",
        "\n",
        "The solution to this problem is the vector\n",
        "$\\alpha = \\begin{bmatrix} 3 \\\\ 0 \\\\ 0 \\end{bmatrix}$ and we can confirm this by doing the dot product of the vectors, by putting them into a matrix, and the vector solution which will yield the expected result."
      ],
      "metadata": {
        "id": "BxIsKrI3aeGt"
      }
    },
    {
      "cell_type": "code",
      "source": [
        "vector1, vector2, vector3 = np.array([1,2,3]), np.array([3,5,1]), np.array([0,0,8])\n",
        "matrix = np.array([vector1,vector2,vector3]).T\n",
        "vector = np.array([3,0,0])\n",
        "print(f\"Matrix: \\n{matrix} \\nVector solution: {vector}\")\n",
        "print(f\"\\nDot Product: \\n{matrix@vector}\")"
      ],
      "metadata": {
        "colab": {
          "base_uri": "https://localhost:8080/"
        },
        "id": "zGGW5E06ZeIi",
        "outputId": "6a5fe237-48ca-4efd-8aed-b206c7970ed1"
      },
      "execution_count": null,
      "outputs": [
        {
          "output_type": "stream",
          "name": "stdout",
          "text": [
            "Matrix: \n",
            "[[1 3 0]\n",
            " [2 5 0]\n",
            " [3 1 8]] \n",
            "Vector solution: [3 0 0]\n",
            "\n",
            "Dot Product: \n",
            "[3 6 9]\n"
          ]
        }
      ]
    },
    {
      "cell_type": "markdown",
      "source": [
        "\n",
        "# Types of matrices"
      ],
      "metadata": {
        "id": "tJfm61NPWjv_"
      }
    },
    {
      "cell_type": "markdown",
      "source": [
        "A system of linear equations is a set of two or more linear equations with unknown variables, in this case $x$ and $y$, that are considered together.\n",
        "\n",
        "The variables and the results represented all together in a matrix is called an augmented matrix. This is use in order to find it's solution.\n",
        "\n",
        "Therefore, a system can be:\n",
        "\n",
        "- Inconsistent: is when a system has no solution.\n",
        "- Consistent: is when the system has a solution. In this case we have to type of systems:\n",
        " - Independent: when it has one solution.\n",
        " - Dependent: when it has infinite solutions.\n",
        "\n",
        "Depending on the number of variables and equations a system can be clasified as:\n",
        "\n",
        "- Square: when it has the same number of variables and equations.\n",
        "- Rectangular: when it has different number of variables and equations. In this case it's also clasified as:\n",
        " - Overdetermined: it has more equations than variables.\n",
        " - Underdetermined: it has more variables than equations.\n"
      ],
      "metadata": {
        "id": "tCUxyAZHC5FF"
      }
    },
    {
      "cell_type": "code",
      "source": [
        "url1, url2 = \"/content/system_linear_equations.png\", \"/content/type_system_linear_equations.png\"\n",
        "im1, im2 = Image.open(url1), Image.open(url2)\n",
        "\n",
        "plt.subplot(1,2,1)\n",
        "plt.axis(\"off\")\n",
        "plt.imshow(im1)\n",
        "plt.subplot(1,2,2)\n",
        "plt.axis(\"off\")\n",
        "plt.imshow(im2)\n",
        "plt.show()"
      ],
      "metadata": {
        "colab": {
          "base_uri": "https://localhost:8080/",
          "height": 224
        },
        "id": "pyGALx0WNtbn",
        "outputId": "b9f19fe2-b8e8-4770-f98c-01dd6c83a5b0"
      },
      "execution_count": null,
      "outputs": [
        {
          "output_type": "display_data",
          "data": {
            "text/plain": [
              "<Figure size 640x480 with 2 Axes>"
            ],
            "image/png": "[encoded data removed]"
          },
          "metadata": {}
        }
      ]
    },
    {
      "cell_type": "markdown",
      "source": [
        "## Square Matrix"
      ],
      "metadata": {
        "id": "18Gwd8vzbe4k"
      }
    },
    {
      "cell_type": "markdown",
      "source": [
        "Is a matrix with the same number of rows and columns. For example, this is a two by two matrix:\n",
        "\n",
        "$A_{2,2} =\n",
        "\\begin{pmatrix}\n",
        " a_{1,1} & a_{1,2} \\\\\n",
        " a_{2,1} & a_{2,2} \\\\\n",
        "\\end{pmatrix}$"
      ],
      "metadata": {
        "id": "amkQH3sGhAd9"
      }
    },
    {
      "cell_type": "code",
      "source": [
        "matrix = np.round(np.random.rand(5,5) * 100,0)\n",
        "\n",
        "print(f\"Matrix: \\n\\n {matrix} \\n\")\n",
        "print(f\" Number of rows: {matrix.shape[0]} \\n Number of columns: {matrix.shape[1]} \\n\")\n",
        "if matrix.shape[0] == matrix.shape[1]: print(\"Is a square matrix\")\n",
        "else: print(\"Is not a square matrix\")"
      ],
      "metadata": {
        "colab": {
          "base_uri": "https://localhost:8080/"
        },
        "id": "fzoa37O0bgg9",
        "outputId": "2e03079f-cd22-4688-95b4-f5e80ce0f394"
      },
      "execution_count": null,
      "outputs": [
        {
          "output_type": "stream",
          "name": "stdout",
          "text": [
            "Matrix: \n",
            "\n",
            " [[ 36.  29.   2.  89.  24.]\n",
            " [ 71.  78.  11.  40.  86.]\n",
            " [ 66.  38.  81.  29.  94.]\n",
            " [ 38. 100.  89.  41.  14.]\n",
            " [ 58.   9.  21.  75.  14.]] \n",
            "\n",
            " Number of rows: 5 \n",
            " Number of columns: 5 \n",
            "\n",
            "Is a square matrix\n"
          ]
        }
      ]
    },
    {
      "cell_type": "markdown",
      "source": [
        "## Triangular Matrix"
      ],
      "metadata": {
        "id": "MeOIY6n2ieL5"
      }
    },
    {
      "cell_type": "markdown",
      "source": [
        "A triangular matrix is a type of square matrix that has all values in the upper-right or lower-left of the matrix with the remaining elements filled with zero values.\n",
        "\n",
        "A triangular matrix with values only above the main diagonal is called an upper triangular matrix. Whereas,\n",
        "a triangular matrix with values only below the main diagonal is called a lower triangular matrix."
      ],
      "metadata": {
        "id": "lsjJAoLIK-VU"
      }
    },
    {
      "cell_type": "code",
      "source": [
        "print(f\"upper triangular matrix: \\n\\n {np.triu(matrix)} \\n\\n\".title())\n",
        "print(f\"lower triangular matrix: \\n\\n {np.tril(matrix)}\".title())"
      ],
      "metadata": {
        "colab": {
          "base_uri": "https://localhost:8080/"
        },
        "id": "Cu7M0uWuidRq",
        "outputId": "95170c74-7262-45db-ca22-bb001db4dfc2"
      },
      "execution_count": null,
      "outputs": [
        {
          "output_type": "stream",
          "name": "stdout",
          "text": [
            "Upper Triangular Matrix: \n",
            "\n",
            " [[36. 29.  2. 89. 24.]\n",
            " [ 0. 78. 11. 40. 86.]\n",
            " [ 0.  0. 81. 29. 94.]\n",
            " [ 0.  0.  0. 41. 14.]\n",
            " [ 0.  0.  0.  0. 14.]] \n",
            "\n",
            "\n",
            "Lower Triangular Matrix: \n",
            "\n",
            " [[ 36.   0.   0.   0.   0.]\n",
            " [ 71.  78.   0.   0.   0.]\n",
            " [ 66.  38.  81.   0.   0.]\n",
            " [ 38. 100.  89.  41.   0.]\n",
            " [ 58.   9.  21.  75.  14.]]\n"
          ]
        }
      ]
    },
    {
      "cell_type": "markdown",
      "source": [
        "## Diagonal Matrix"
      ],
      "metadata": {
        "id": "D8qJytAhjYrn"
      }
    },
    {
      "cell_type": "markdown",
      "source": [
        "It's a matrix where the values outside of the main diagonal are zero. The main diagonal is taken from the top left of the matrix to the bottom right of it and it's represented like this $D$."
      ],
      "metadata": {
        "id": "FiX1M-ssLdDl"
      }
    },
    {
      "cell_type": "code",
      "source": [
        "print(f\"Diagonal matrix: \\n\\n {np.diag(matrix[:,0])}\".title())"
      ],
      "metadata": {
        "colab": {
          "base_uri": "https://localhost:8080/"
        },
        "id": "W1R1ghC-jaea",
        "outputId": "1f72cb02-39a1-4fd4-8057-2d02ca9e991c"
      },
      "execution_count": null,
      "outputs": [
        {
          "output_type": "stream",
          "name": "stdout",
          "text": [
            "Diagonal Matrix: \n",
            "\n",
            " [[36.  0.  0.  0.  0.]\n",
            " [ 0. 71.  0.  0.  0.]\n",
            " [ 0.  0. 66.  0.  0.]\n",
            " [ 0.  0.  0. 38.  0.]\n",
            " [ 0.  0.  0.  0. 58.]]\n"
          ]
        }
      ]
    },
    {
      "cell_type": "markdown",
      "source": [
        "## Transposed Matrix"
      ],
      "metadata": {
        "id": "agI1t9gcWrfi"
      }
    },
    {
      "cell_type": "markdown",
      "source": [
        "It's a matrix in which the elements of the rows and columns have switched their positions, that is the rows have turned into columns and the columns into rows. It's represented like this $A^t$."
      ],
      "metadata": {
        "id": "bquGUa9PLzP9"
      }
    },
    {
      "cell_type": "code",
      "source": [
        "print(f\"Original matrix: \\n\\n {matrix} \\n\\n\")\n",
        "print(f\"Transposed matrix: \\n\\n {matrix.T}\")"
      ],
      "metadata": {
        "colab": {
          "base_uri": "https://localhost:8080/"
        },
        "id": "No6BBt05WrEx",
        "outputId": "76ed7998-1260-417d-f5fa-ff6570427c7f"
      },
      "execution_count": null,
      "outputs": [
        {
          "output_type": "stream",
          "name": "stdout",
          "text": [
            "Original matrix: \n",
            "\n",
            " [[ 36.  29.   2.  89.  24.]\n",
            " [ 71.  78.  11.  40.  86.]\n",
            " [ 66.  38.  81.  29.  94.]\n",
            " [ 38. 100.  89.  41.  14.]\n",
            " [ 58.   9.  21.  75.  14.]] \n",
            "\n",
            "\n",
            "Transposed matrix: \n",
            "\n",
            " [[ 36.  71.  66.  38.  58.]\n",
            " [ 29.  78.  38. 100.   9.]\n",
            " [  2.  11.  81.  89.  21.]\n",
            " [ 89.  40.  29.  41.  75.]\n",
            " [ 24.  86.  94.  14.  14.]]\n"
          ]
        }
      ]
    },
    {
      "cell_type": "markdown",
      "source": [
        "## Symmetric Matrix"
      ],
      "metadata": {
        "id": "2XEnPziAd4QV"
      }
    },
    {
      "cell_type": "markdown",
      "source": [
        "It's a type of square matrix where the top-right triangle is the same as the bottom-left triangle. In order for this to happen,\n",
        "the axis of symmetry is always the main diagonal of the matrix, from the top left to the bottom right.\n",
        "\n",
        "A symmetric matrix is always equal to it's transpose: $A^t = A$\n",
        "\n",
        "A good example of this is the correlation matrix (explained later)."
      ],
      "metadata": {
        "id": "lCx86m6jL82k"
      }
    },
    {
      "cell_type": "code",
      "source": [
        "print(f\"Correlation matrix: \\n\\n {np.round(np.corrcoef(matrix),2)} \\n\\n\")\n",
        "print(f\"Transposed matrix: \\n\\n {np.round(np.corrcoef(matrix),2).T}\")"
      ],
      "metadata": {
        "colab": {
          "base_uri": "https://localhost:8080/"
        },
        "id": "Cj8f7jzsd39u",
        "outputId": "8325a2ac-2c7d-45bf-c939-409eb7781df2"
      },
      "execution_count": null,
      "outputs": [
        {
          "output_type": "stream",
          "name": "stdout",
          "text": [
            "Correlation matrix: \n",
            "\n",
            " [[ 1.    0.04 -0.73 -0.37  0.8 ]\n",
            " [ 0.04  1.    0.05 -0.4  -0.24]\n",
            " [-0.73  0.05  1.   -0.33 -0.47]\n",
            " [-0.37 -0.4  -0.33  1.   -0.41]\n",
            " [ 0.8  -0.24 -0.47 -0.41  1.  ]] \n",
            "\n",
            "\n",
            "Transposed matrix: \n",
            "\n",
            " [[ 1.    0.04 -0.73 -0.37  0.8 ]\n",
            " [ 0.04  1.    0.05 -0.4  -0.24]\n",
            " [-0.73  0.05  1.   -0.33 -0.47]\n",
            " [-0.37 -0.4  -0.33  1.   -0.41]\n",
            " [ 0.8  -0.24 -0.47 -0.41  1.  ]]\n"
          ]
        }
      ]
    },
    {
      "cell_type": "markdown",
      "source": [
        "## Identity Matrix"
      ],
      "metadata": {
        "id": "D45I3QSEWr1Q"
      }
    },
    {
      "cell_type": "markdown",
      "source": [
        "It's a type of square matrix full of zeros with ones in the main diagonal.\n",
        "\n",
        "When a matrix is multiplied by an identity matrix it remains unchanged.\n",
        "\n",
        "It's represented like this $I_n$ where \"n\" represent the number of columns and rows."
      ],
      "metadata": {
        "id": "MDFbCIHBMNSI"
      }
    },
    {
      "cell_type": "code",
      "source": [
        "print(f\"Original matrix: \\n\\n {matrix} \\n\\n\")\n",
        "print(f\"Identity matrix: \\n\\n {np.identity(5)} \\n\\n\")\n",
        "print(f\"Multiplication: \\n\\n {matrix @ np.identity(5)}\")"
      ],
      "metadata": {
        "colab": {
          "base_uri": "https://localhost:8080/"
        },
        "id": "BiqprGI4Wq9f",
        "outputId": "1e8fe5c3-d9cf-4289-df8e-639017bc5055"
      },
      "execution_count": null,
      "outputs": [
        {
          "output_type": "stream",
          "name": "stdout",
          "text": [
            "Original matrix: \n",
            "\n",
            " [[ 36.  29.   2.  89.  24.]\n",
            " [ 71.  78.  11.  40.  86.]\n",
            " [ 66.  38.  81.  29.  94.]\n",
            " [ 38. 100.  89.  41.  14.]\n",
            " [ 58.   9.  21.  75.  14.]] \n",
            "\n",
            "\n",
            "Identity matrix: \n",
            "\n",
            " [[1. 0. 0. 0. 0.]\n",
            " [0. 1. 0. 0. 0.]\n",
            " [0. 0. 1. 0. 0.]\n",
            " [0. 0. 0. 1. 0.]\n",
            " [0. 0. 0. 0. 1.]] \n",
            "\n",
            "\n",
            "Multiplication: \n",
            "\n",
            " [[ 36.  29.   2.  89.  24.]\n",
            " [ 71.  78.  11.  40.  86.]\n",
            " [ 66.  38.  81.  29.  94.]\n",
            " [ 38. 100.  89.  41.  14.]\n",
            " [ 58.   9.  21.  75.  14.]]\n"
          ]
        }
      ]
    },
    {
      "cell_type": "markdown",
      "source": [
        "## Inverse Matrix"
      ],
      "metadata": {
        "id": "UHDCp4M7WsbD"
      }
    },
    {
      "cell_type": "markdown",
      "source": [
        "The inverse of a matrix, if exist, is a matrix that if it is multiplied\n",
        "by the original matrix gives the identity matrix as a result.\n",
        "\n",
        "In other words, $A^{-1} . A = I$"
      ],
      "metadata": {
        "id": "rWNtKIorMXRI"
      }
    },
    {
      "cell_type": "code",
      "source": [
        "print(f\"Original matrix: \\n\\n {matrix} \\n\\n\")\n",
        "print(f\"Inverse matrix: \\n\\n {np.linalg.inv(matrix)} \\n\\n\")\n",
        "print(f\"Multiplication: \\n\\n {np.linalg.inv(matrix) @ matrix}\")"
      ],
      "metadata": {
        "colab": {
          "base_uri": "https://localhost:8080/"
        },
        "id": "tEQ9mVi2WmZh",
        "outputId": "78194bd5-11f0-4cb6-b50d-f2c368243bae"
      },
      "execution_count": null,
      "outputs": [
        {
          "output_type": "stream",
          "name": "stdout",
          "text": [
            "Original matrix: \n",
            "\n",
            " [[ 36.  29.   2.  89.  24.]\n",
            " [ 71.  78.  11.  40.  86.]\n",
            " [ 66.  38.  81.  29.  94.]\n",
            " [ 38. 100.  89.  41.  14.]\n",
            " [ 58.   9.  21.  75.  14.]] \n",
            "\n",
            "\n",
            "Inverse matrix: \n",
            "\n",
            " [[-0.02704151  0.01132018 -0.00773067 -0.00069809  0.02942264]\n",
            " [ 0.00092168  0.00757524 -0.00730539  0.00716017 -0.00622333]\n",
            " [ 0.00000568 -0.01019967  0.00870562  0.00469072 -0.00049735]\n",
            " [ 0.01838497 -0.00678337  0.00240603 -0.00045568 -0.00554693]\n",
            " [ 0.01293714 -0.00012873  0.01077553 -0.00630581 -0.01600278]] \n",
            "\n",
            "\n",
            "Multiplication: \n",
            "\n",
            " [[ 1. -0. -0.  0. -0.]\n",
            " [-0.  1. -0.  0. -0.]\n",
            " [ 0.  0.  1.  0.  0.]\n",
            " [-0. -0.  0.  1.  0.]\n",
            " [ 0.  0.  0.  0.  1.]]\n"
          ]
        }
      ]
    },
    {
      "cell_type": "markdown",
      "source": [
        "## Orthogonal Matrix"
      ],
      "metadata": {
        "id": "oe_zfJjbFFf7"
      }
    },
    {
      "cell_type": "markdown",
      "source": [
        "It's a type of square matrix whose columns and rows are orthonormal unit vectors, which means that they are perpendicular and have a length of 1.\n",
        "\n",
        "A matrix is orthogonal if its transpose is equal to its inverse:\n",
        "$Q^T = Q^{-1}$\n",
        "\n",
        "Another equivalence is that the dot product of the matrix with its transpose equal the identity matrix:\n",
        "$Q . Q^T = I$"
      ],
      "metadata": {
        "id": "rWS0XDg0Mfkw"
      }
    },
    {
      "cell_type": "code",
      "source": [
        "print(f\"Dot product of the matrix with its transpose: \\n\\n {matrix @ matrix.T} \\n\\n Identity matrix: \\n\\n {np.identity(matrix.shape[0])} \\n\\n\")\n",
        "if (matrix @ matrix.T == np.identity(matrix.shape[0])).all(): print(\"It's an orthogonal matrix\")\n",
        "else: print(\"It's not an orthogonal matrix\")"
      ],
      "metadata": {
        "colab": {
          "base_uri": "https://localhost:8080/"
        },
        "id": "bF-_vSAjFI_4",
        "outputId": "5f04434e-f48e-4271-c255-748287f6626c"
      },
      "execution_count": null,
      "outputs": [
        {
          "output_type": "stream",
          "name": "stdout",
          "text": [
            "Dot product of the matrix with its transpose: \n",
            "\n",
            " [[10638. 10464.  8477.  8431.  9402.]\n",
            " [10464. 20242. 17785. 14321.  9255.]\n",
            " [ 8477. 17785. 22038. 16022.  9362.]\n",
            " [ 8431. 14321. 16022. 21242.  8244.]\n",
            " [ 9402.  9255.  9362.  8244.  9707.]] \n",
            "\n",
            " Identity matrix: \n",
            "\n",
            " [[1. 0. 0. 0. 0.]\n",
            " [0. 1. 0. 0. 0.]\n",
            " [0. 0. 1. 0. 0.]\n",
            " [0. 0. 0. 1. 0.]\n",
            " [0. 0. 0. 0. 1.]] \n",
            "\n",
            "\n",
            "It's not an orthogonal matrix\n"
          ]
        }
      ]
    },
    {
      "cell_type": "markdown",
      "source": [
        "#Vector and Matrix Operations"
      ],
      "metadata": {
        "id": "hsT6B6XIX5WL"
      }
    },
    {
      "cell_type": "markdown",
      "source": [
        "##Vector Addition"
      ],
      "metadata": {
        "id": "pup7NSq57_6J"
      }
    },
    {
      "cell_type": "markdown",
      "source": [
        "This is when each component of two vectors are added to each one in the same position. Therefore, vectors must have the same number of components. This means to be compatible.\n",
        "\n",
        "The operation is the following:\n",
        "\n",
        "$\\alpha = \\vec{a}_n \\vec{b}_n$\n",
        "\n",
        "$\\begin{align}\n",
        "\\alpha = \\sum_{i=1}^n a_i + b_i\n",
        "\\end{align}$"
      ],
      "metadata": {
        "id": "GymNELsb8EtG"
      }
    },
    {
      "cell_type": "code",
      "source": [
        "vector_A, vector_B = np.random.randint(1,10,5), np.random.randint(1,10,5)\n",
        "print(f\"Vector A: {vector_A}\")\n",
        "print(f\"Vector B: {vector_B}\")\n",
        "\n",
        "def vector_addition(vector_a,vector_b):\n",
        "  assert len(vector_b) == len(vector_b), \"Vectors must have the same length\"\n",
        "  return print(vector_a+vector_b)\n",
        "print(\"\\nVector addition with vectors of same length\")\n",
        "vector_addition(vector_A,vector_B)\n",
        "\n",
        "print(\"\\nVector addition with vectors of different length\")\n",
        "try:\n",
        "  vector_addition(vector_A,np.random.randint(1,10,6))\n",
        "except Exception as e:\n",
        "  print(e)"
      ],
      "metadata": {
        "colab": {
          "base_uri": "https://localhost:8080/"
        },
        "id": "Zrv4dUp78opW",
        "outputId": "0a8519e8-3a66-4f31-85ed-08183dffdbaa"
      },
      "execution_count": null,
      "outputs": [
        {
          "output_type": "stream",
          "name": "stdout",
          "text": [
            "Vector A: [8 5 4 2 4]\n",
            "Vector B: [6 7 6 3 4]\n",
            "\n",
            "Vector addition with vectors of same length\n",
            "[14 12 10  5  8]\n",
            "\n",
            "Vector addition with vectors of different length\n",
            "operands could not be broadcast together with shapes (5,) (6,) \n"
          ]
        }
      ]
    },
    {
      "cell_type": "markdown",
      "source": [
        "##Vector Scaling"
      ],
      "metadata": {
        "id": "gSZ6Qdng9777"
      }
    },
    {
      "cell_type": "markdown",
      "source": [
        "The operation is the following:\n",
        "\n",
        "$\\alpha = a\\vec{v}_n$"
      ],
      "metadata": {
        "id": "PD-pHSfm97zq"
      }
    },
    {
      "cell_type": "code",
      "source": [
        "vector, scalar = np.random.randint(1,10,5), 3\n",
        "print(f\"Vector: {vector}\")\n",
        "print(f\"Scalar: {scalar}\")\n",
        "\n",
        "def vector_scaling(vector,scalar):\n",
        "  return print(vector*scalar)\n",
        "print(\"\\nVector Scaling\")\n",
        "vector_scaling(vector,scalar)"
      ],
      "metadata": {
        "colab": {
          "base_uri": "https://localhost:8080/"
        },
        "id": "OqG4b_gA98qG",
        "outputId": "ad73e501-8e86-484e-cdc4-33b09b7e277c"
      },
      "execution_count": null,
      "outputs": [
        {
          "output_type": "stream",
          "name": "stdout",
          "text": [
            "Vector: [4 7 6 7 2]\n",
            "Scalar: 3\n",
            "\n",
            "Vector Scaling\n",
            "[12 21 18 21  6]\n"
          ]
        }
      ]
    },
    {
      "cell_type": "markdown",
      "source": [
        "##Vector Dot Product"
      ],
      "metadata": {
        "id": "DDCGmGxUAZxO"
      }
    },
    {
      "cell_type": "markdown",
      "source": [
        "For this operation vectors must have the same length too. This operation is the following:\n",
        "\n",
        "$\\alpha = \\vec{a}_n \\vec{b}_n$\n",
        "\n",
        "$\\begin{align}\n",
        "\\alpha = \\sum_{i=1}^n a_i b_i\n",
        "\\end{align}$\n"
      ],
      "metadata": {
        "id": "rvxn8hMRAZni"
      }
    },
    {
      "cell_type": "code",
      "source": [
        "vector_A, vector_B = np.random.randint(1,10,5), np.random.randint(1,10,5)\n",
        "print(f\"Vector A: {vector_A}\")\n",
        "print(f\"Vector B: {vector_B}\")\n",
        "\n",
        "def vector_dot_product(vector_a,vector_b):\n",
        "  assert len(vector_b) == len(vector_b), \"Vectors must have the same length\"\n",
        "  return print(sum(vector_a*vector_b))\n",
        "print(\"\\nVector dot product with vectors of same length\")\n",
        "vector_dot_product(vector_A,vector_B)\n",
        "\n",
        "print(\"\\nVector dot product with vectors of different length\")\n",
        "try:\n",
        "  vector_dot_product(vector_A,np.random.randint(1,10,6))\n",
        "except Exception as e:\n",
        "  print(e)"
      ],
      "metadata": {
        "id": "zJdk0riVAar4",
        "colab": {
          "base_uri": "https://localhost:8080/"
        },
        "outputId": "12e20d6f-9191-4b19-bf08-bad522fad48c"
      },
      "execution_count": null,
      "outputs": [
        {
          "output_type": "stream",
          "name": "stdout",
          "text": [
            "Vector A: [8 9 2 1 9]\n",
            "Vector B: [9 2 4 3 5]\n",
            "\n",
            "Vector dot product with vectors of same length\n",
            "146\n",
            "\n",
            "Vector dot product with vectors of different length\n",
            "operands could not be broadcast together with shapes (5,) (6,) \n"
          ]
        }
      ]
    },
    {
      "cell_type": "markdown",
      "source": [
        "## Inner Product"
      ],
      "metadata": {
        "id": "kKW-xwxAY8LC"
      }
    },
    {
      "cell_type": "markdown",
      "source": [
        "For this to happen both vectors must have the same number of elements.\n",
        "\n",
        "It's the product between a row vector and a column vector:\n",
        "\n",
        "$A =   \\begin{pmatrix} a_{1,1} & a_{1,2} & a_{1,3} \\end{pmatrix} B =   \\begin{pmatrix} b_{1,1} \\\\ b_{2,1} \\\\ b_{3,1} \\end{pmatrix}$\n",
        "\n",
        "$\\alpha = A_{1,n}  B_{n,1}$\n",
        "\n",
        "$\\begin{align}\n",
        "\\alpha = \\sum_{i=1}^n a_i b_i\n",
        "\\end{align}$\n",
        "\n"
      ],
      "metadata": {
        "id": "YluKXomIUdme"
      }
    },
    {
      "cell_type": "code",
      "source": [
        "vector_A, vector_B = np.random.randint(1,10,10), np.random.randint(1,10,10)\n",
        "print(f\"Vector A: {vector_A} \\nVector B: {vector_B}\")\n",
        "\n",
        "def inner_product(vector_A, vector_B):\n",
        "    assert len(vector_A) == len(vector_B), \"The vectors must have the same number of elements\"\n",
        "    return print(np.dot(vector_A,vector_B.T))\n",
        "print(\"\\nInner product of vectors with same dimension\")\n",
        "inner_product(vector_A, vector_B)\n",
        "print(sum(vector_A * vector_B))\n",
        "\n",
        "print(\"\\nInner product of vectors with different dimension\")\n",
        "try:\n",
        "  inner_product(vector_A, np.random.randint(1,10,11))\n",
        "except Exception as e:\n",
        "  print(e)"
      ],
      "metadata": {
        "colab": {
          "base_uri": "https://localhost:8080/"
        },
        "id": "v7pB5x3WX7j8",
        "outputId": "8d2f8f8b-d117-482f-db23-4eaa0ccd1ff7"
      },
      "execution_count": null,
      "outputs": [
        {
          "output_type": "stream",
          "name": "stdout",
          "text": [
            "Vector A: [7 8 9 1 2 1 7 6 9 3] \n",
            "Vector B: [8 9 9 1 4 1 6 9 4 5]\n",
            "\n",
            "Inner product of vectors with same dimension\n",
            "366\n",
            "366\n",
            "\n",
            "Inner product of vectors with different dimension\n",
            "The vectors must have the same number of elements\n"
          ]
        }
      ]
    },
    {
      "cell_type": "markdown",
      "source": [
        "##Outer Product"
      ],
      "metadata": {
        "id": "cS_lRLICZG0D"
      }
    },
    {
      "cell_type": "markdown",
      "source": [
        "For this to happen both vectors must have the same number of elements.\n",
        "\n",
        "It's the product between a row vector and a column vector:\n",
        "\n",
        "$A =   \\begin{pmatrix} a_{1,1} \\\\ a_{2,1} \\\\ a_{3,1} \\end{pmatrix}\n",
        "B =   \\begin{pmatrix} b_{1,1} & b_{1,2} & b_{1,3} \\end{pmatrix}$\n",
        "\n",
        "$C = A_{n,1}  B_{1,n}$\n"
      ],
      "metadata": {
        "id": "AVXKC7GrcBLO"
      }
    },
    {
      "cell_type": "code",
      "source": [
        "vector_A, vector_B = np.array(np.random.randint(1,10,10)).reshape((10,1)), np.random.randint(1,10,10).reshape((1,10))\n",
        "print(f\"Vector A: \\n{vector_A} \\nVector B: \\n{vector_B}\")\n",
        "\n",
        "def outer_product(vector_A, vector_B):\n",
        "    assert vector_A.shape[0] == vector_B.shape[1], \"The vectors must have the same number of elements\"\n",
        "    return print(np.dot(vector_A,vector_B))\n",
        "print(\"\\nOuter product of vectors with same dimension\")\n",
        "outer_product(vector_A, vector_B)\n",
        "\n",
        "print(\"\\nOuter product of vectors with different dimension\")\n",
        "try:\n",
        "  inner_product(vector_A, np.random.randint(1,11,11).reshape((1,11)))\n",
        "except Exception as e:\n",
        "  print(e)"
      ],
      "metadata": {
        "colab": {
          "base_uri": "https://localhost:8080/"
        },
        "id": "imS1wY-xcbRj",
        "outputId": "c93aaafa-0670-4a79-c51c-1befcf499b8d"
      },
      "execution_count": null,
      "outputs": [
        {
          "output_type": "stream",
          "name": "stdout",
          "text": [
            "Vector A: \n",
            "[[6]\n",
            " [4]\n",
            " [2]\n",
            " [1]\n",
            " [1]\n",
            " [1]\n",
            " [5]\n",
            " [8]\n",
            " [1]\n",
            " [1]] \n",
            "Vector B: \n",
            "[[8 5 1 8 7 5 6 8 4 1]]\n",
            "\n",
            "Outer product of vectors with same dimension\n",
            "[[48 30  6 48 42 30 36 48 24  6]\n",
            " [32 20  4 32 28 20 24 32 16  4]\n",
            " [16 10  2 16 14 10 12 16  8  2]\n",
            " [ 8  5  1  8  7  5  6  8  4  1]\n",
            " [ 8  5  1  8  7  5  6  8  4  1]\n",
            " [ 8  5  1  8  7  5  6  8  4  1]\n",
            " [40 25  5 40 35 25 30 40 20  5]\n",
            " [64 40  8 64 56 40 48 64 32  8]\n",
            " [ 8  5  1  8  7  5  6  8  4  1]\n",
            " [ 8  5  1  8  7  5  6  8  4  1]]\n",
            "\n",
            "Outer product of vectors with different dimension\n",
            "The vectors must have the same number of elements\n"
          ]
        }
      ]
    },
    {
      "cell_type": "markdown",
      "source": [
        "##Matrix Addition"
      ],
      "metadata": {
        "id": "i9b07BQfY4BZ"
      }
    },
    {
      "cell_type": "markdown",
      "source": [
        "It can happen if and only if both matrices have the same size and it's element wise.\n",
        "\n",
        "In other words, $A_{n,n} + B_{n,n} = C_{n,n}$"
      ],
      "metadata": {
        "id": "aomK6bpgQcaA"
      }
    },
    {
      "cell_type": "code",
      "source": [
        "matrix_A, matrix_B = np.round(np.random.rand(5,5) * 100,0), np.round(np.random.rand(5,5) * 100,0)\n",
        "print(f\"Matrix A \\n {matrix_A} \\n\\n Matrix B \\n {matrix_B} \\n\\n\")\n",
        "\n",
        "def matrix_addition(matrix_A, matrix_B):\n",
        "    assert matrix_A.shape == matrix_B.shape, \"Matrices must have the same size\"\n",
        "    return print(matrix_A + matrix_B)\n",
        "\n",
        "print(\"Addition with matrices of same dimensions\")\n",
        "matrix_addition(matrix_A, matrix_B)\n",
        "\n",
        "print(\"\\nAddition with matrices of different dimensions\")\n",
        "try:\n",
        "  matrix_addition(matrix_A, np.random.rand(5,6))\n",
        "except Exception as e:\n",
        "  print(e)"
      ],
      "metadata": {
        "colab": {
          "base_uri": "https://localhost:8080/"
        },
        "id": "j8X9pLl1X7DH",
        "outputId": "69d12ddb-d98a-4a42-e742-3141496fa4c8"
      },
      "execution_count": null,
      "outputs": [
        {
          "output_type": "stream",
          "name": "stdout",
          "text": [
            "Matrix A \n",
            " [[75. 31. 33. 41. 49.]\n",
            " [68. 10. 84. 90.  1.]\n",
            " [12. 59. 59.  2.  8.]\n",
            " [ 4. 41. 25. 42. 50.]\n",
            " [91. 66. 17. 70.  1.]] \n",
            "\n",
            " Matrix B \n",
            " [[35. 85. 65. 29. 48.]\n",
            " [33. 30. 98. 19. 48.]\n",
            " [ 1. 38.  7. 99. 46.]\n",
            " [86. 87. 65. 97. 48.]\n",
            " [17. 64. 10. 50. 22.]] \n",
            "\n",
            "\n",
            "Addition with matrices of same dimensions\n",
            "[[110. 116.  98.  70.  97.]\n",
            " [101.  40. 182. 109.  49.]\n",
            " [ 13.  97.  66. 101.  54.]\n",
            " [ 90. 128.  90. 139.  98.]\n",
            " [108. 130.  27. 120.  23.]]\n",
            "\n",
            "Addition with matrices of different dimensions\n",
            "Matrices must have the same size\n"
          ]
        }
      ]
    },
    {
      "cell_type": "markdown",
      "source": [
        "##Matrix Scaling"
      ],
      "metadata": {
        "id": "YbeigN2HY5uJ"
      }
    },
    {
      "cell_type": "markdown",
      "source": [
        "It's element-wise too and it's called scaling.\n",
        "\n",
        "$x . A_{2,2} =\n",
        "\\begin{pmatrix}\n",
        " x.a_{1,1} & x.a_{1,2} \\\\\n",
        " x.a_{2,1} & x.a_{2,2} \\\\\n",
        "\\end{pmatrix}$"
      ],
      "metadata": {
        "id": "9HFc_caGSZwo"
      }
    },
    {
      "cell_type": "code",
      "source": [
        "scalar, matrix = 5, np.round(np.random.rand(5,5) * 100,0)\n",
        "\n",
        "print(f\"Scalar: \\n {scalar}\")\n",
        "print(f\"\\nMatrix: \\n {matrix}\\n\")\n",
        "def scalar_multiplication(scalar, matrix):\n",
        "    return print(scalar * matrix)\n",
        "print(f\"Scaled matrix: \")\n",
        "scalar_multiplication(scalar, matrix)"
      ],
      "metadata": {
        "colab": {
          "base_uri": "https://localhost:8080/"
        },
        "id": "cfRH99aeX7mh",
        "outputId": "cf51e441-a507-4b57-cf4e-bded4abf52d1"
      },
      "execution_count": null,
      "outputs": [
        {
          "output_type": "stream",
          "name": "stdout",
          "text": [
            "Scalar: \n",
            " 5\n",
            "\n",
            "Matrix: \n",
            " [[70. 32. 25. 33. 85.]\n",
            " [ 4. 49. 77. 89. 36.]\n",
            " [44. 63. 64. 51. 22.]\n",
            " [ 0. 39. 94. 51. 97.]\n",
            " [68. 25. 42. 24. 11.]]\n",
            "\n",
            "Scaled matrix: \n",
            "[[350. 160. 125. 165. 425.]\n",
            " [ 20. 245. 385. 445. 180.]\n",
            " [220. 315. 320. 255. 110.]\n",
            " [  0. 195. 470. 255. 485.]\n",
            " [340. 125. 210. 120.  55.]]\n"
          ]
        }
      ]
    },
    {
      "cell_type": "markdown",
      "source": [
        "## Matrix Product"
      ],
      "metadata": {
        "id": "TWjOnChVZATG"
      }
    },
    {
      "cell_type": "markdown",
      "source": [
        "We have a first matrix of dimensions n,m and a second matrix\n",
        "of dimensions m,p and the result will be a matrix of dimensions n,p in which each element of the resulting matrix is the sumproduct between each column of the first matrix and each row of the second matrix:\n",
        "\n",
        "$A_{n,m}B_{m,p}=C_{n,p}$"
      ],
      "metadata": {
        "id": "_XR7BtjlfgCy"
      }
    },
    {
      "cell_type": "code",
      "source": [
        "matrix_A, matrix_B = np.round(np.random.rand(5,5) * 100,0), np.round(np.random.rand(5,5) * 100,0)\n",
        "print(f\"Matrix A: \\n{matrix_A}\")\n",
        "print(f\"\\nMatrix B: \\n{matrix_B}\")\n",
        "def matrix_product(matrix_A, matrix_B):\n",
        "    assert matrix_A.shape[1] == matrix_B.shape[0], \"The first matrix columns and the second matrix rows must be have the same size\"\n",
        "    return print(np.dot(matrix_A,matrix_B))\n",
        "print(\"\\nMatrix product when properties are met\")\n",
        "matrix_product(matrix_A, matrix_B)\n",
        "\n",
        "print(\"\\nMatrix product when properties aren't met\")\n",
        "try:\n",
        "  matrix_product(matrix_A, np.round(np.random.rand(4,5) * 100,0))\n",
        "except Exception as e:\n",
        "  print(e)"
      ],
      "metadata": {
        "colab": {
          "base_uri": "https://localhost:8080/"
        },
        "id": "IHjkHsMLX7Uj",
        "outputId": "0d630695-2dc7-414c-a522-aaa60e91dd59"
      },
      "execution_count": null,
      "outputs": [
        {
          "output_type": "stream",
          "name": "stdout",
          "text": [
            "Matrix A: \n",
            "[[49. 57.  5. 13. 87.]\n",
            " [65. 76. 82. 79. 35.]\n",
            " [50. 14. 26. 56. 79.]\n",
            " [34. 80. 71. 72. 18.]\n",
            " [18. 45. 33. 68. 33.]]\n",
            "\n",
            "Matrix B: \n",
            "[[41. 86. 91. 17. 78.]\n",
            " [69. 63. 96. 70. 73.]\n",
            " [97. 34. 86. 65. 96.]\n",
            " [30. 66. 37. 37. 63.]\n",
            " [63. 87. 41. 72.  9.]]\n",
            "\n",
            "Matrix product when properties are met\n",
            "[[12298. 16402. 14409. 11893. 10065.]\n",
            " [20438. 21425. 24621. 17198. 23782.]\n",
            " [12195. 16635. 13441. 11280. 11657.]\n",
            " [17095. 16696. 20282. 14753. 20006.]\n",
            " [11163. 12864. 12665. 10493. 12438.]]\n",
            "\n",
            "Matrix product when properties aren't met\n",
            "The first matrix columns and the second matrix rows must be have the same size\n"
          ]
        }
      ]
    },
    {
      "cell_type": "markdown",
      "source": [
        "##Hadamard Product (element-wise product)"
      ],
      "metadata": {
        "id": "hkf26EjJiDRv"
      }
    },
    {
      "cell_type": "markdown",
      "source": [
        "Is the element-wise product between two matrices. Therefore, they must have the same dimensiones:\n",
        "\n",
        "$A_{n,n}B_{n,n}=C_{n,n}$\n",
        "\n",
        "It's represented the following way:\n",
        "\n",
        "$(A \\circ B)_{i,j} = (A \\odot B)_{i,j} = (A)_{i,j} (B)_{i,j}$"
      ],
      "metadata": {
        "id": "yAL4qtr4iMRc"
      }
    },
    {
      "cell_type": "code",
      "source": [
        "matrix_A, matrix_B = np.round(np.random.rand(5,5) * 100,0), np.round(np.random.rand(5,5) * 100,0)\n",
        "print(f\"Matrix A: \\n{matrix_A}\")\n",
        "print(f\"\\nMatrix B: \\n{matrix_B}\")\n",
        "print(f\"\\nHadamard Product: \\n{matrix_A*matrix_B}\")"
      ],
      "metadata": {
        "colab": {
          "base_uri": "https://localhost:8080/"
        },
        "id": "lwsJExGQkSzr",
        "outputId": "9a721eb1-a277-4664-8b9d-088b1f4eb346"
      },
      "execution_count": null,
      "outputs": [
        {
          "output_type": "stream",
          "name": "stdout",
          "text": [
            "Matrix A: \n",
            "[[50. 69.  7. 34. 19.]\n",
            " [42. 75. 65. 85. 59.]\n",
            " [ 3. 37. 88. 81. 84.]\n",
            " [20. 34.  2. 21. 89.]\n",
            " [10. 40. 19. 64. 79.]]\n",
            "\n",
            "Matrix B: \n",
            "[[ 10.  82.  79.  30.  66.]\n",
            " [ 20.  12.  98.  89.  68.]\n",
            " [  8. 100.  95.  98.  21.]\n",
            " [ 57.  80.  88.  64.  24.]\n",
            " [ 61.  72.  98.  88.  41.]]\n",
            "\n",
            "Hadamard Product: \n",
            "[[ 500. 5658.  553. 1020. 1254.]\n",
            " [ 840.  900. 6370. 7565. 4012.]\n",
            " [  24. 3700. 8360. 7938. 1764.]\n",
            " [1140. 2720.  176. 1344. 2136.]\n",
            " [ 610. 2880. 1862. 5632. 3239.]]\n"
          ]
        }
      ]
    },
    {
      "cell_type": "markdown",
      "source": [
        "## Matrix-Vector Product"
      ],
      "metadata": {
        "id": "V9LDvgZEY9o3"
      }
    },
    {
      "cell_type": "markdown",
      "source": [
        "The number of columns of the matrix and the number of element of the vector must be the same:\n",
        "\n",
        "$A_{n,m} = v_{m}$"
      ],
      "metadata": {
        "id": "v6lU38ybeUVL"
      }
    },
    {
      "cell_type": "code",
      "source": [
        "matrix, vector = np.round(np.random.rand(5,5) * 100,0), np.random.randint(1,10,5)\n",
        "print(f\"Matrix: \\n{matrix} \\n\\n Vector: \\n{vector}\")\n",
        "print(f\"\\nMatrix dimensions: ({matrix.shape[0]},{matrix.shape[1]}) \\nVector length: {len(vector)}\")\n",
        "\n",
        "def matrix_vector_product(matrix,vector):\n",
        "    assert matrix.shape[1] == len(vector), \"the number of columns of the matrix and the number of element of the vector must be the same\"\n",
        "    return print(np.dot(matrix, vector))\n",
        "print(\"\\nMatrix-Vector Product with same dimensions\")\n",
        "matrix_vector_product(matrix,vector)\n",
        "\n",
        "print(\"\\nMatrix-Vector Product with different dimensions\")\n",
        "try:\n",
        "  matrix_vector_product(matrix,np.random.randint(1,10,6))\n",
        "except Exception as e:\n",
        "  print(e)"
      ],
      "metadata": {
        "colab": {
          "base_uri": "https://localhost:8080/"
        },
        "id": "i_wW3dn4X7hJ",
        "outputId": "d701b079-5558-47db-fee8-377164168db4"
      },
      "execution_count": null,
      "outputs": [
        {
          "output_type": "stream",
          "name": "stdout",
          "text": [
            "Matrix: \n",
            "[[20. 99. 85. 90. 59.]\n",
            " [60. 22. 31. 56. 65.]\n",
            " [24. 68. 17. 54. 78.]\n",
            " [59. 12. 46. 77. 21.]\n",
            " [46. 84. 80. 50. 92.]] \n",
            "\n",
            " Vector: \n",
            "[9 8 4 1 1]\n",
            "\n",
            "Matrix dimensions: (5,5) \n",
            "Vector length: 5\n",
            "\n",
            "Matrix-Vector Product with same dimensions\n",
            "[1461.  961.  960.  909. 1548.]\n",
            "\n",
            "Matrix-Vector Product with different dimensions\n",
            "the number of columns of the matrix and the number of element of the vector must be the same\n"
          ]
        }
      ]
    },
    {
      "cell_type": "markdown",
      "source": [
        "##  Matrix Trace"
      ],
      "metadata": {
        "id": "mLPdEG4VIhdc"
      }
    },
    {
      "cell_type": "markdown",
      "source": [
        "It's the sum of the elements of the main diagonal."
      ],
      "metadata": {
        "id": "MFrVRawtgxp8"
      }
    },
    {
      "cell_type": "code",
      "source": [
        "print(f\"Matrix: \\n\\n {matrix} \\n\\n\")\n",
        "print(f\"Diagonal: {np.diag(matrix,k=0)}\\n\")\n",
        "print(f\"The trace of the matrix is: {np.trace(matrix)}\\n\")\n",
        "print(f\"Manual sum of the main diagonal elements: {np.sum(np.diag(matrix,k=0))}\")"
      ],
      "metadata": {
        "colab": {
          "base_uri": "https://localhost:8080/"
        },
        "id": "UinHmZgCIl33",
        "outputId": "ac724383-d957-4ebc-e34b-56be0d67d0cc"
      },
      "execution_count": null,
      "outputs": [
        {
          "output_type": "stream",
          "name": "stdout",
          "text": [
            "Matrix: \n",
            "\n",
            " [[20. 99. 85. 90. 59.]\n",
            " [60. 22. 31. 56. 65.]\n",
            " [24. 68. 17. 54. 78.]\n",
            " [59. 12. 46. 77. 21.]\n",
            " [46. 84. 80. 50. 92.]] \n",
            "\n",
            "\n",
            "Diagonal: [20. 22. 17. 77. 92.]\n",
            "\n",
            "The trace of the matrix is: 228.0\n",
            "\n",
            "Manual sum of the main diagonal elements: 228.0\n"
          ]
        }
      ]
    },
    {
      "cell_type": "markdown",
      "source": [
        "## Matrix  Determinant"
      ],
      "metadata": {
        "id": "iu_-N_GjKDgS"
      }
    },
    {
      "cell_type": "markdown",
      "source": [
        "It's the scalar representation of the volume of a matrix.\n",
        "\n",
        "If it's equal to zero it cannot be inverted."
      ],
      "metadata": {
        "id": "6GrV30QzhG1k"
      }
    },
    {
      "cell_type": "code",
      "source": [
        "print(f\"Matrix: \\n{matrix}\")\n",
        "print(f\"\\nDeterminant of a matrix: {np.linalg.det(matrix)}\")\n",
        "if np.linalg.det(matrix) == 0: print(\"Cannot be inverted\")\n",
        "else: print(\"Can be inverted\")"
      ],
      "metadata": {
        "colab": {
          "base_uri": "https://localhost:8080/"
        },
        "id": "VL9mJ6vgKDKL",
        "outputId": "5f17ad5e-62a7-4ab5-e25f-f7bc8f0aa21b"
      },
      "execution_count": null,
      "outputs": [
        {
          "output_type": "stream",
          "name": "stdout",
          "text": [
            "Matrix: \n",
            "[[20. 99. 85. 90. 59.]\n",
            " [60. 22. 31. 56. 65.]\n",
            " [24. 68. 17. 54. 78.]\n",
            " [59. 12. 46. 77. 21.]\n",
            " [46. 84. 80. 50. 92.]]\n",
            "\n",
            "Determinant of a matrix: -181421195.99999976\n",
            "Can be inverted\n"
          ]
        }
      ]
    },
    {
      "cell_type": "markdown",
      "source": [
        "## Matrix Rank"
      ],
      "metadata": {
        "id": "_moVFF7CLFbv"
      }
    },
    {
      "cell_type": "markdown",
      "source": [
        "It's the estimate of the number of linearly independent rows or columns a matrix has."
      ],
      "metadata": {
        "id": "jdmxMKuGhLAN"
      }
    },
    {
      "cell_type": "code",
      "source": [
        "print(f\"Matrix: \\n{matrix}\")\n",
        "print(f\"\\nRank of the matrix: {np.linalg.matrix_rank(matrix)}\")"
      ],
      "metadata": {
        "colab": {
          "base_uri": "https://localhost:8080/"
        },
        "id": "TM7tYXeILHVU",
        "outputId": "be5c343e-68bf-4606-a163-663c8548da04"
      },
      "execution_count": null,
      "outputs": [
        {
          "output_type": "stream",
          "name": "stdout",
          "text": [
            "Matrix: \n",
            "[[20. 99. 85. 90. 59.]\n",
            " [60. 22. 31. 56. 65.]\n",
            " [24. 68. 17. 54. 78.]\n",
            " [59. 12. 46. 77. 21.]\n",
            " [46. 84. 80. 50. 92.]]\n",
            "\n",
            "Rank of the matrix: 5\n"
          ]
        }
      ]
    },
    {
      "cell_type": "markdown",
      "source": [
        "#Vector Norms\n"
      ],
      "metadata": {
        "id": "CU5vqr_rZJ6y"
      }
    },
    {
      "cell_type": "markdown",
      "source": [
        "Are functions that measure the magnitude or length of a vector and are  represented this way: $\\| x \\|$.\n",
        "\n",
        "It has four properties:\n",
        "\n",
        "- Non-Negativity: $\\|x\\| \\ge 0$\n",
        "- Definiteness: $\\|x\\| = 0 \\Leftrightarrow x = 0$\n",
        "- Triangle Inequality: $\\|x + y\\| \\le \\|x\\| + \\|y\\|$\n",
        "- Homogeneity: $\\|\\lambda x\\| = |\\lambda| \\|x\\|, \\forall \\lambda \\in \\mathbb{R}$"
      ],
      "metadata": {
        "id": "VqxKWbW6VjRg"
      }
    },
    {
      "cell_type": "markdown",
      "source": [
        "##Manhattan or $L^1$ norm"
      ],
      "metadata": {
        "id": "avMpM77koBuM"
      }
    },
    {
      "cell_type": "markdown",
      "source": [
        "It's define the following way:\n",
        "\n",
        "$\\|x\\|_1 = \\begin{align} \\sum_{i=1}^n |x_i| \\end{align}, \\forall x \\in \\mathbb{R}$"
      ],
      "metadata": {
        "id": "wz63UblGoTbg"
      }
    },
    {
      "cell_type": "code",
      "source": [
        "vector = np.random.randint(1,10,10)\n",
        "print(f\"Vector: {vector}\")\n",
        "\n",
        "def manhattan_norm(vector):\n",
        "    return sum(abs(vector))\n",
        "print(f\"Manhattan Norm calculated with Custom Function: {manhattan_norm(vector)}\")\n",
        "print(f\"Manhattan Norm calculated with Numpy Function: {np.linalg.norm(vector,ord=1)}\")"
      ],
      "metadata": {
        "colab": {
          "base_uri": "https://localhost:8080/"
        },
        "id": "vPlHARjqsXyO",
        "outputId": "dc7c7c11-4574-4991-ad1b-4d1394b5b5dd"
      },
      "execution_count": null,
      "outputs": [
        {
          "output_type": "stream",
          "name": "stdout",
          "text": [
            "Vector: [2 3 1 1 2 8 1 8 2 3]\n",
            "Manhattan Norm calculated with Custom Function: 31\n",
            "Manhattan Norm calculated with Numpy Function: 31.0\n"
          ]
        }
      ]
    },
    {
      "cell_type": "markdown",
      "source": [
        "##Euclidean or $L^2$ norm"
      ],
      "metadata": {
        "id": "F09V8u-spsU4"
      }
    },
    {
      "cell_type": "markdown",
      "source": [
        "It's define the following way:\n",
        "$\\|x\\|_2 = \\sqrt {\\begin{align} \\sum_{i=1}^n |x_i|^2 \\end{align}}, \\forall x \\in \\mathbb{R}$"
      ],
      "metadata": {
        "id": "dj7WU5QPpxT3"
      }
    },
    {
      "cell_type": "code",
      "source": [
        "vector = np.random.randint(1,10,10)\n",
        "print(f\"Vector: {vector}\")\n",
        "\n",
        "def euclidean_norm(vector):\n",
        "    return sum(vector**2)**(1/2)\n",
        "print(f\"Euclidean Norm calculated with Custom Function: {euclidean_norm(vector)}\")\n",
        "print(f\"Euclidean Norm calculated with Numpy Function: {np.linalg.norm(vector,ord=2)}\")"
      ],
      "metadata": {
        "colab": {
          "base_uri": "https://localhost:8080/"
        },
        "id": "J-DVebIGsYXV",
        "outputId": "9ddf2a03-a89b-424b-dbdf-7a2f08ef1942"
      },
      "execution_count": null,
      "outputs": [
        {
          "output_type": "stream",
          "name": "stdout",
          "text": [
            "Vector: [1 8 1 8 7 1 7 8 3 2]\n",
            "Euclidean Norm calculated with Custom Function: 17.4928556845359\n",
            "Euclidean Norm calculated with Numpy Function: 17.4928556845359\n"
          ]
        }
      ]
    },
    {
      "cell_type": "markdown",
      "source": [
        "##$L^p$ norm"
      ],
      "metadata": {
        "id": "R3g07igFqX25"
      }
    },
    {
      "cell_type": "markdown",
      "source": [
        "It's define the following way:\n",
        "\n",
        "$\\|x_p\\| = (\\begin{align} \\sum_{i=1}^n |x_i|^p)^{1/p} \\end{align}, \\forall p \\ge 0$"
      ],
      "metadata": {
        "id": "pulRcwoZqcUT"
      }
    },
    {
      "cell_type": "code",
      "source": [
        "vector = np.random.randint(1,10,10)\n",
        "print(f\"Vector: {vector}\")\n",
        "\n",
        "def lp_norm(vector,p):\n",
        "    return sum(vector**p)**(1/p)\n",
        "print(f\"L^p Norm calculated with Custom Function when P = 3: {lp_norm(vector,3)}\")\n",
        "print(f\"L^p Norm calculated with Numpy Function when P = 3: {np.linalg.norm(vector,ord=3)}\")"
      ],
      "metadata": {
        "colab": {
          "base_uri": "https://localhost:8080/"
        },
        "id": "VG40dMlKsZc8",
        "outputId": "e7286f46-e705-4c58-fcec-c31cb255cee8"
      },
      "execution_count": null,
      "outputs": [
        {
          "output_type": "stream",
          "name": "stdout",
          "text": [
            "Vector: [2 2 4 3 9 1 9 7 6 9]\n",
            "L^p Norm calculated with Custom Function when P = 3: 14.184629271615547\n",
            "L^p Norm calculated with Numpy Function when P = 3: 14.184629271615547\n"
          ]
        }
      ]
    },
    {
      "cell_type": "markdown",
      "source": [
        "##Max or $L^\\infty$ norm"
      ],
      "metadata": {
        "id": "7PJoYXmOriMV"
      }
    },
    {
      "cell_type": "markdown",
      "source": [
        "It's define the following way:\n",
        "\n",
        "$\\|x\\|_\\infty = max_i(|x|_i), \\forall x \\in \\mathbb{R}$"
      ],
      "metadata": {
        "id": "CIXxH1sTriDp"
      }
    },
    {
      "cell_type": "code",
      "source": [
        "vector = np.random.randint(1,10,10)\n",
        "print(f\"Vector: {vector}\")\n",
        "\n",
        "def infinite_norm(vector):\n",
        "    return max(abs(vector))\n",
        "print(f\"Infinite Norm calculated with Custom Function: {infinite_norm(vector)}\")\n",
        "print(f\"Infinite Norm calculated with Numpy Function: {np.linalg.norm(vector,ord=np.inf)}\")"
      ],
      "metadata": {
        "colab": {
          "base_uri": "https://localhost:8080/"
        },
        "id": "jNpfQpyfZLU2",
        "outputId": "9cf5a0ad-a14a-4af4-dc8e-bc194b35e058"
      },
      "execution_count": null,
      "outputs": [
        {
          "output_type": "stream",
          "name": "stdout",
          "text": [
            "Vector: [6 8 6 5 8 1 4 1 2 4]\n",
            "Infinite Norm calculated with Custom Function: 8\n",
            "Infinite Norm calculated with Numpy Function: 8.0\n"
          ]
        }
      ]
    },
    {
      "cell_type": "markdown",
      "source": [
        "#Matrix Decomposition"
      ],
      "metadata": {
        "id": "qubtXdIyuJ7o"
      }
    },
    {
      "cell_type": "markdown",
      "source": [
        "Matrix decompositions are methods that reduce a matrix into constituent parts that make it easier to calculate more complex matrix operations."
      ],
      "metadata": {
        "id": "KaiJq4xjuLK0"
      }
    },
    {
      "cell_type": "markdown",
      "source": [
        "##LU"
      ],
      "metadata": {
        "id": "7_Eb66gFaE2V"
      }
    },
    {
      "cell_type": "markdown",
      "source": [
        "Factors a matrix as the product of a lower triangular matrix L and an upper triangular matrix U.\n",
        "\n",
        "The mathematical definition is the following:\n",
        "\n",
        "$A = LU$\n",
        "\n",
        "$\\begin{bmatrix}\n",
        " a_{1,1} & a_{1,2} & a_{1,3} \\\\\n",
        " a_{2,1} & a_{2,2} & a_{2,3} \\\\\n",
        " a_{3,1} & a_{3,2} & a_{3,3}\n",
        "\\end{bmatrix} = \\begin{bmatrix}\n",
        " l_{1,1} & 0 & 0 \\\\\n",
        " l_{2,1} & l_{2,2} & 0 \\\\\n",
        " l_{3,1} & l_{3,2} & a_{3,3}\n",
        "\\end{bmatrix} \\begin{bmatrix}\n",
        " u_{1,1} & u_{1,2} & u_{1,3} \\\\\n",
        " 0 & u_{2,2} & u_{2,3} \\\\\n",
        " 0 & 0 & u_{3,3}\n",
        "\\end{bmatrix}$\n"
      ],
      "metadata": {
        "id": "nZXtES31b6fQ"
      }
    },
    {
      "cell_type": "code",
      "source": [
        "matrix = np.round(np.random.rand(5,5) * 100,0)\n",
        "print(f\"Matrix: \\n{matrix}\")\n",
        "\n",
        "L, U = sp.linalg.lu(matrix,True)\n",
        "print(f\"\\nL matrix: \\n{L}\")\n",
        "print(f\"\\nU matrix: \\n{U}\")\n",
        "print(f\"\\nDot Product: \\n{L@U}\")"
      ],
      "metadata": {
        "colab": {
          "base_uri": "https://localhost:8080/"
        },
        "id": "VZWVizG0eIGi",
        "outputId": "16c01e07-38a0-4d2d-b8dd-675030cc09fa"
      },
      "execution_count": null,
      "outputs": [
        {
          "output_type": "stream",
          "name": "stdout",
          "text": [
            "Matrix: \n",
            "[[95. 30.  5. 18.  1.]\n",
            " [95. 15. 58. 62.  4.]\n",
            " [62. 59. 46. 66. 18.]\n",
            " [94. 20.  7. 15. 35.]\n",
            " [22. 13. 43. 88. 16.]]\n",
            "\n",
            "L matrix: \n",
            "[[ 1.          0.          0.          0.          0.        ]\n",
            " [ 1.         -0.38050734  1.          0.          0.        ]\n",
            " [ 0.65263158  1.          0.          0.          0.        ]\n",
            " [ 0.98947368 -0.24566088  0.18121711 -0.02812272  1.        ]\n",
            " [ 0.23157895  0.15353805  0.50937795  1.          0.        ]]\n",
            "\n",
            "U matrix: \n",
            "[[95.         30.          5.         18.          1.        ]\n",
            " [ 0.         39.42105263 42.73684211 54.25263158 17.34736842]\n",
            " [ 0.          0.         69.26168224 64.6435247   9.60080107]\n",
            " [ 0.          0.          0.         42.57374945  8.21450354]\n",
            " [ 0.          0.          0.          0.         36.76328091]]\n",
            "\n",
            "Dot Product: \n",
            "[[95. 30.  5. 18.  1.]\n",
            " [95. 15. 58. 62.  4.]\n",
            " [62. 59. 46. 66. 18.]\n",
            " [94. 20.  7. 15. 35.]\n",
            " [22. 13. 43. 88. 16.]]\n"
          ]
        }
      ]
    },
    {
      "cell_type": "markdown",
      "source": [
        "##QR"
      ],
      "metadata": {
        "id": "Jn_8Mp7BaEvQ"
      }
    },
    {
      "cell_type": "markdown",
      "source": [
        "Is a decomposition of a matrix into the product of an orthonormal matrix Q and an upper triangular matrix R.\n",
        "\n",
        "The mathematical definition is the following:\n",
        "\n",
        "$A = QR$"
      ],
      "metadata": {
        "id": "M-3_juJvgg9j"
      }
    },
    {
      "cell_type": "code",
      "source": [
        "matrix = np.round(np.random.rand(5,5) * 100,0)\n",
        "print(f\"Matrix: \\n{matrix}\")\n",
        "\n",
        "Q, R = np.linalg.qr(matrix)\n",
        "print(f\"\\nQ matrix: \\n{Q}\")\n",
        "print(f\"\\nR matrix: \\n{R}\")\n",
        "print(f\"\\nDot Product: \\n{Q@R}\")"
      ],
      "metadata": {
        "colab": {
          "base_uri": "https://localhost:8080/"
        },
        "id": "dKQgWxAUg4kS",
        "outputId": "2ac9b5a0-e36e-444c-a70d-54057eff367c"
      },
      "execution_count": null,
      "outputs": [
        {
          "output_type": "stream",
          "name": "stdout",
          "text": [
            "Matrix: \n",
            "[[56. 87. 53.  2. 61.]\n",
            " [71. 99. 12. 62. 73.]\n",
            " [15. 28. 75. 55. 95.]\n",
            " [73. 88. 44. 17. 75.]\n",
            " [36. 85. 47. 57. 48.]]\n",
            "\n",
            "Q matrix: \n",
            "[[-0.45682713  0.14908996 -0.15279219 -0.6760179  -0.53734115]\n",
            " [-0.57919153 -0.1045249   0.44063215  0.56563919 -0.3735068 ]\n",
            " [-0.12236441  0.16189937 -0.85102394  0.45102669 -0.17649002]\n",
            " [-0.59550679 -0.46555768 -0.20178892 -0.13749141  0.60745787]\n",
            " [-0.29367458  0.85081806  0.13242863  0.02689147  0.41425037]]\n",
            "\n",
            "R matrix: \n",
            "[[-122.58466462 -177.87706209  -80.34447074  -70.41663838 -140.53144456]\n",
            " [   0.           38.50650311   38.29383273   43.30425012   22.76705074]\n",
            " [   0.            0.          -69.29176283  -15.67468777  -66.7790462 ]\n",
            " [   0.            0.            0.           57.71952117   33.88103867]\n",
            " [   0.            0.            0.            0.          -11.36700038]]\n",
            "\n",
            "Dot Product: \n",
            "[[56. 87. 53.  2. 61.]\n",
            " [71. 99. 12. 62. 73.]\n",
            " [15. 28. 75. 55. 95.]\n",
            " [73. 88. 44. 17. 75.]\n",
            " [36. 85. 47. 57. 48.]]\n"
          ]
        }
      ]
    },
    {
      "cell_type": "markdown",
      "source": [
        "##Cholesky"
      ],
      "metadata": {
        "id": "5TPm3QJAaEnz"
      }
    },
    {
      "cell_type": "markdown",
      "source": [
        "Is a decomposition of a Hermitian positive-definite matrix into the product of a lower triangular matrix and its conjugate transpose.\n",
        "\n",
        "The mathematical definition is the following:\n",
        "\n",
        "$A = LL^*$\n",
        "\n",
        "where L is a lower triangular matrix with real and positive diagonal entries, and L* denotes the conjugate transpose of L. Every Hermitian positive-definite matrix (and thus also every real-valued symmetric positive-definite matrix) has a unique Cholesky decomposition."
      ],
      "metadata": {
        "id": "ZBuw2VLEheN5"
      }
    },
    {
      "cell_type": "code",
      "source": [
        "matrix = np.round(np.random.rand(5,5) * 100,0)\n",
        "matrix = np.cov(matrix)\n",
        "print(f\"Matrix: \\n{matrix}\")\n",
        "\n",
        "while True:\n",
        "  try:\n",
        "    L = np.linalg.cholesky(matrix)\n",
        "    print(f\"\\nL matrix: \\n{L}\")\n",
        "    print(f\"\\nDot Product: \\n{L@L.T}\")\n",
        "    break\n",
        "  except Exception as e:\n",
        "    print(e)"
      ],
      "metadata": {
        "colab": {
          "base_uri": "https://localhost:8080/"
        },
        "id": "8p2nniVmicD2",
        "outputId": "85ff7efe-69ac-4223-8be1-c35e9145ac2a"
      },
      "execution_count": null,
      "outputs": [
        {
          "output_type": "stream",
          "name": "stdout",
          "text": [
            "Matrix: \n",
            "[[ 477.2   219.5  -473.2   -35.7   366.1 ]\n",
            " [ 219.5  1316.5   502.75  303.75  976.25]\n",
            " [-473.2   502.75 1000.7   131.45   90.15]\n",
            " [ -35.7   303.75  131.45  365.7    13.9 ]\n",
            " [ 366.1   976.25   90.15   13.9  1018.3 ]]\n",
            "\n",
            "L matrix: \n",
            "[[ 21.84490787   0.           0.           0.           0.        ]\n",
            " [ 10.04810829  34.86453097   0.           0.           0.        ]\n",
            " [-21.66179884  20.66312325  10.22261261   0.           0.        ]\n",
            " [ -1.63424814   9.1832901   -9.16656175  13.95243927   0.        ]\n",
            " [ 16.75905443  23.17120534  -2.50505494 -13.93750471   0.00000058]]\n",
            "\n",
            "Dot Product: \n",
            "[[ 477.2   219.5  -473.2   -35.7   366.1 ]\n",
            " [ 219.5  1316.5   502.75  303.75  976.25]\n",
            " [-473.2   502.75 1000.7   131.45   90.15]\n",
            " [ -35.7   303.75  131.45  365.7    13.9 ]\n",
            " [ 366.1   976.25   90.15   13.9  1018.3 ]]\n"
          ]
        }
      ]
    },
    {
      "cell_type": "markdown",
      "source": [
        "##Eigen"
      ],
      "metadata": {
        "id": "APis6c1oaEgT"
      }
    },
    {
      "cell_type": "markdown",
      "source": [
        "Is the factorization of a matrix into a canonical form, whereby the matrix is represented in terms of its eigenvalues and eigenvectors. Only diagonalizable matrices can be factorized in this way.\n",
        "\n",
        "The mathematical definition is the following:\n",
        "\n",
        "$A \\vec{v} = \\lambda \\vec{v}$\n",
        "\n",
        "where $\\lambda$ is a scalar which is the eigen value corresponding the eigenvector $\\vec{v}$."
      ],
      "metadata": {
        "id": "l-EPkP8nkoWD"
      }
    },
    {
      "cell_type": "code",
      "source": [
        "matrix = np.round(np.random.rand(5,5) * 100,0)\n",
        "# matrix = np.cov(matrix)\n",
        "print(f\"Matrix: \\n{matrix}\")\n",
        "\n",
        "eigenvalues, eigenvectors = np.linalg.eig(matrix)\n",
        "print(f\"\\nEigenvalues: \\n{np.real(np.round(eigenvalues))}\")\n",
        "print(f\"\\nEigenvectors: \\n{np.real(np.round(eigenvectors))}\")\n",
        "print(f\"\\nMatrix Reconstruction: \\n{np.real(np.round(eigenvectors @ np.diag(eigenvalues) @ np.linalg.inv(eigenvectors)))}\")"
      ],
      "metadata": {
        "colab": {
          "base_uri": "https://localhost:8080/"
        },
        "id": "Z-FNecJPlUq1",
        "outputId": "f9fc1741-3704-4fa0-e493-57972cdef50f"
      },
      "execution_count": null,
      "outputs": [
        {
          "output_type": "stream",
          "name": "stdout",
          "text": [
            "Matrix: \n",
            "[[92. 33. 23. 20. 89.]\n",
            " [20. 64. 81. 33. 42.]\n",
            " [84. 88. 75. 34. 18.]\n",
            " [47. 30. 67. 37. 68.]\n",
            " [21.  5. 57. 81. 10.]]\n",
            "\n",
            "Eigenvalues: \n",
            "[247. -41.   4.   4.  63.]\n",
            "\n",
            "Eigenvectors: \n",
            "[[-0.  0.  0.  0. -1.]\n",
            " [-0.  0. -0. -0.  1.]\n",
            " [-1. -1.  1.  1.  0.]\n",
            " [-0.  1. -0. -0. -0.]\n",
            " [-0. -0. -0. -0. -0.]]\n",
            "\n",
            "Matrix Reconstruction: \n",
            "[[92. 33. 23. 20. 89.]\n",
            " [20. 64. 81. 33. 42.]\n",
            " [84. 88. 75. 34. 18.]\n",
            " [47. 30. 67. 37. 68.]\n",
            " [21.  5. 57. 81. 10.]]\n"
          ]
        }
      ]
    },
    {
      "cell_type": "markdown",
      "source": [
        "##Singular Value"
      ],
      "metadata": {
        "id": "K8UKgUquaEX5"
      }
    },
    {
      "cell_type": "markdown",
      "source": [
        "Is the factorization of a matrix into the product of three matrices U, D and V where the columns of U and V are orthonormal and the matrix D is diagonal with positive real entries.\n",
        "\n",
        "The mathematical definition is the following:\n",
        "\n",
        "$A = UDV^T$"
      ],
      "metadata": {
        "id": "iV1VRcByoVPb"
      }
    },
    {
      "cell_type": "code",
      "source": [
        "matrix = np.round(np.random.rand(5,5) * 100,0)\n",
        "print(f\"Matrix: \\n{matrix}\")\n",
        "\n",
        "U, D, V = np.linalg.svd(matrix)\n",
        "print(f\"\\nU Matrix: \\n{U}\")\n",
        "print(f\"\\nD Vector: \\n{D}\")\n",
        "print(f\"\\nV Matrix: \\n{V}\")\n",
        "print(f\"\\nMatrix Reconstruction: \\n{(U * D) @ V}\")"
      ],
      "metadata": {
        "colab": {
          "base_uri": "https://localhost:8080/"
        },
        "id": "e6IgU631o599",
        "outputId": "80377756-88fd-4731-b73e-122bfcea7f86"
      },
      "execution_count": null,
      "outputs": [
        {
          "output_type": "stream",
          "name": "stdout",
          "text": [
            "Matrix: \n",
            "[[22. 65. 31. 84. 41.]\n",
            " [22. 79. 65. 44.  5.]\n",
            " [70.  4. 97. 81. 24.]\n",
            " [70. 44. 12. 14.  4.]\n",
            " [97. 68. 85.  6. 96.]]\n",
            "\n",
            "U Matrix: \n",
            "[[-0.39399068 -0.47104343  0.42421042 -0.35272734  0.56437432]\n",
            " [-0.38196173 -0.32081393  0.42589065  0.20477855 -0.72654426]\n",
            " [-0.49759536 -0.36526121 -0.78222537  0.08342259 -0.01213422]\n",
            " [-0.26036685  0.19046052  0.16122174  0.84884142  0.38653548]\n",
            " [-0.61926128  0.71098914  0.02817233 -0.32581909 -0.06370367]]\n",
            "\n",
            "D Vector: \n",
            "[258.76151697  94.79915425  77.40190162  51.10940605  43.98149528]\n",
            "\n",
            "V Matrix: \n",
            "[[-0.50315307 -0.43028292 -0.5451722  -0.37705553 -0.34972846]\n",
            " [ 0.41465598 -0.00733808 -0.08613986 -0.8052523   0.41491594]\n",
            " [-0.28468699  0.86689877 -0.3968008  -0.08476862  0.05294576]\n",
            " [ 0.59478594  0.1717344  -0.13775304 -0.07694758 -0.76931148]\n",
            " [ 0.37427317 -0.18383847 -0.7203752   0.44304765  0.33300356]]\n",
            "\n",
            "Matrix Reconstruction: \n",
            "[[22. 65. 31. 84. 41.]\n",
            " [22. 79. 65. 44.  5.]\n",
            " [70.  4. 97. 81. 24.]\n",
            " [70. 44. 12. 14.  4.]\n",
            " [97. 68. 85.  6. 96.]]\n"
          ]
        }
      ]
    }
  ]
}